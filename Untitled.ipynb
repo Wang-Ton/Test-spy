{
 "cells": [
  {
   "cell_type": "code",
   "execution_count": 1,
   "metadata": {},
   "outputs": [],
   "source": [
    "import urllib.request as urlrequest\n",
    "from bs4 import BeautifulSoup\n",
    "weather_url = \"http://www.weather.com.cn/weather/101010100.shtml\"\n",
    "web_page = urlrequest.urlopen(weather_url).read()\n",
    "soup = BeautifulSoup(web_page,\"html.parser\")\n",
    "soup_forecast = soup.find(id = \"7d\")\n",
    "date_list = soup_forecast.find_all(\"h1\")\n",
    "desc_list = soup_forecast.find_all(class_ = \"wea\")\n",
    "temp_list = soup_forecast.find_all(class_ = \"tem\")\n",
    "wind_list = soup_forecast.find_all(class_ = \"win\")\n",
    "with open(\"weather_beijing.txt\",\"a\") as outputfile:\n",
    "    for i in range(7):\n",
    "        date = date_list[i].get_text()\n",
    "        desc = desc_list[i].get_text()\n",
    "        temp = temp_list[i].get_text()\n",
    "        wind = wind_list[i].get_text().replace('\\n','')+'\\n'\n",
    "        outputfile.write((\"{},{},{},{}\").format(date,desc,temp,wind))"
   ]
  },
  {
   "cell_type": "code",
   "execution_count": null,
   "metadata": {},
   "outputs": [],
   "source": []
  }
 ],
 "metadata": {
  "kernelspec": {
   "display_name": "Python 3",
   "language": "python",
   "name": "python3"
  },
  "language_info": {
   "codemirror_mode": {
    "name": "ipython",
    "version": 3
   },
   "file_extension": ".py",
   "mimetype": "text/x-python",
   "name": "python",
   "nbconvert_exporter": "python",
   "pygments_lexer": "ipython3",
   "version": "3.7.3"
  }
 },
 "nbformat": 4,
 "nbformat_minor": 2
}
